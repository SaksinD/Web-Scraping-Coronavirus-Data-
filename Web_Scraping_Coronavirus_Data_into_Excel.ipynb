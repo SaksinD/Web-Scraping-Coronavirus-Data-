{
  "nbformat": 4,
  "nbformat_minor": 0,
  "metadata": {
    "colab": {
      "provenance": [],
      "authorship_tag": "ABX9TyPxDKzlZMYpDtMeS1MOg6mw",
      "include_colab_link": true
    },
    "kernelspec": {
      "name": "python3",
      "display_name": "Python 3"
    },
    "language_info": {
      "name": "python"
    }
  },
  "cells": [
    {
      "cell_type": "markdown",
      "metadata": {
        "id": "view-in-github",
        "colab_type": "text"
      },
      "source": [
        "<a href=\"https://colab.research.google.com/github/SaksinD/WebScraping/blob/main/Web_Scraping_Coronavirus_Data_into_Excel.ipynb\" target=\"_parent\"><img src=\"https://colab.research.google.com/assets/colab-badge.svg\" alt=\"Open In Colab\"/></a>"
      ]
    },
    {
      "cell_type": "markdown",
      "source": [
        "# Web Scraping Coronavirus Data into Excel"
      ],
      "metadata": {
        "id": "QkRGkPi8petz"
      }
    },
    {
      "cell_type": "code",
      "execution_count": 9,
      "metadata": {
        "id": "qgXu47jppZQb",
        "colab": {
          "base_uri": "https://localhost:8080/"
        },
        "outputId": "bcc86feb-917d-460b-fa6d-e823aab99223"
      },
      "outputs": [
        {
          "output_type": "stream",
          "name": "stdout",
          "text": [
            "['672,567        ', '16,880', '655,681']\n"
          ]
        }
      ],
      "source": [
        "# Import required module\n",
        "import requests\n",
        "from bs4 import BeautifulSoup\n",
        "import pandas as pd\n",
        "\n",
        "# Make requests from webpage\n",
        "result = requests.get('https://www.worldometers.info/coronavirus/country/sri-lanka/')\n",
        "\n",
        "# Creating soup object\n",
        "soup = BeautifulSoup(result.text,'lxml')\n",
        "\n",
        "# Searching div tags having maincounter-number class\n",
        "cases = soup.find_all('div' ,class_= 'maincounter-number')\n",
        "\n",
        "# List to store number of cases\n",
        "data = []\n",
        "\n",
        "# Find the span and get data from it\n",
        "for i in cases:\n",
        "\tspan = i.find('span')\n",
        "\tdata.append(span.string)\n",
        "\n",
        "# Display number of cases\n",
        "print(data)\n",
        "\n",
        "# Creating dataframe\n",
        "df = pd.DataFrame({\"CoronaData\": data})\n",
        "\n",
        "# Naming the columns\n",
        "df.index = ['TotalCases', ' Deaths', 'Recovered']\n",
        "\n",
        "# Exporting data into Excel\n",
        "df.to_csv('Corona_Data.csv')\n"
      ]
    }
  ]
}